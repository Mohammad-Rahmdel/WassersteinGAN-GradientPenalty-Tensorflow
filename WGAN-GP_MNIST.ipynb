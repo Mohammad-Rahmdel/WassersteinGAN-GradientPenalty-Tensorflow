{
 "cells": [
  {
   "cell_type": "code",
   "execution_count": 0,
   "metadata": {
    "colab": {},
    "colab_type": "code",
    "id": "816f8CjbyHNL"
   },
   "outputs": [],
   "source": [
    "!pip uninstall tensorflow\n",
    "!pip install tensorflow-gpu==2.0.0-beta1"
   ]
  },
  {
   "cell_type": "code",
   "execution_count": 0,
   "metadata": {
    "colab": {},
    "colab_type": "code",
    "id": "moFsbUq1yPkI"
   },
   "outputs": [],
   "source": [
    "!mkdir images"
   ]
  },
  {
   "cell_type": "code",
   "execution_count": 0,
   "metadata": {
    "colab": {},
    "colab_type": "code",
    "id": "hYSxfwy6yScp"
   },
   "outputs": [],
   "source": [
    "%matplotlib inline\n",
    "\n",
    "import tensorflow as tf\n",
    "import numpy as np\n",
    "import matplotlib.pyplot as plt\n",
    "from tqdm.autonotebook import tqdm\n",
    "from IPython import display\n",
    "import pandas as pd\n",
    "\n",
    "print(tf.__version__)"
   ]
  },
  {
   "cell_type": "code",
   "execution_count": 4,
   "metadata": {
    "colab": {
     "base_uri": "https://localhost:8080/",
     "height": 90
    },
    "colab_type": "code",
    "id": "m6uOPFJC1JdA",
    "outputId": "5babc4ad-6c0d-4a5a-b2c6-525161e982e6"
   },
   "outputs": [
    {
     "name": "stdout",
     "output_type": "stream",
     "text": [
      "Downloading data from https://storage.googleapis.com/tensorflow/tf-keras-datasets/mnist.npz\n",
      "11493376/11490434 [==============================] - 0s 0us/step\n",
      "(60000, 28, 28)\n",
      "(10000, 28, 28)\n"
     ]
    }
   ],
   "source": [
    "# load dataset\n",
    "(train_images, _), (test_images, _) = tf.keras.datasets.mnist.load_data()\n",
    "print(train_images.shape)\n",
    "print(test_images.shape)"
   ]
  },
  {
   "cell_type": "code",
   "execution_count": 0,
   "metadata": {
    "colab": {},
    "colab_type": "code",
    "id": "-W0nnma2yV9S"
   },
   "outputs": [],
   "source": [
    "TRAIN_BUF=60000\n",
    "BATCH_SIZE=256\n",
    "TEST_BUF=10000\n",
    "DIMS = (28,28,1)\n",
    "N_TRAIN_BATCHES = int(TRAIN_BUF/BATCH_SIZE)\n",
    "N_TEST_BATCHES = int(TEST_BUF/BATCH_SIZE)\n",
    "\n",
    "\n",
    "\n",
    "\n",
    "# normalizing and reshaping dataset\n",
    "# (m,28,28) to (m,28,28,1)\n",
    "train_images = train_images.reshape(train_images.shape[0], 28, 28, 1).astype(\n",
    "    \"float32\"\n",
    ") / 255.0\n",
    "test_images = test_images.reshape(test_images.shape[0], 28, 28, 1).astype(\"float32\") / 255.0\n",
    "\n",
    "# batch datasets\n",
    "train_dataset = (\n",
    "    tf.data.Dataset.from_tensor_slices(train_images)\n",
    "    .shuffle(TRAIN_BUF)\n",
    "    .batch(BATCH_SIZE)\n",
    ")\n",
    "test_dataset = (\n",
    "    tf.data.Dataset.from_tensor_slices(test_images)\n",
    "    .shuffle(TEST_BUF)\n",
    "    .batch(BATCH_SIZE)\n",
    ")"
   ]
  },
  {
   "cell_type": "code",
   "execution_count": 0,
   "metadata": {
    "colab": {},
    "colab_type": "code",
    "id": "CrLoIwgeygMn"
   },
   "outputs": [],
   "source": [
    "class WGAN(tf.keras.Model):\n",
    "    \"\"\"\n",
    "    Extends tf.keras.Model\n",
    "    \"\"\"\n",
    "\n",
    "    def __init__(self, **kwargs):\n",
    "        super(WGAN, self).__init__()\n",
    "        self.__dict__.update(kwargs)\n",
    "\n",
    "        self.gen = tf.keras.Sequential(self.gen)\n",
    "        self.disc = tf.keras.Sequential(self.disc)\n",
    "\n",
    "    def generate(self, z):\n",
    "        return self.gen(z)\n",
    "\n",
    "    def discriminate(self, x):\n",
    "        return self.disc(x)\n",
    "      \n",
    "    \n",
    "    def compute_loss_critic(self, x):\n",
    "        z_samp = tf.random.normal([x.shape[0], 1, 1, self.n_Z])  ## random noise with shape = (batch_size, 1, 1, n_Z)\n",
    "\n",
    "        # run noise through generator\n",
    "        x_gen = self.generate(z_samp)\n",
    "        # discriminate x and x_gen\n",
    "        logits_x = self.discriminate(x)\n",
    "        logits_x_gen = self.discriminate(x_gen)\n",
    "\n",
    "        # gradient penalty\n",
    "        d_regularizer = self.gradient_penalty(x, x_gen)\n",
    "        ### losses\n",
    "        disc_loss = (\n",
    "            tf.reduce_mean(logits_x_gen)  #\n",
    "            - tf.reduce_mean(logits_x)\n",
    "            + d_regularizer * self.gradient_penalty_weight\n",
    "        )\n",
    "        \n",
    "        return disc_loss\n",
    "      \n",
    "    def compute_loss_generator(self, x):\n",
    "        z_samp = tf.random.normal([x.shape[0], 1, 1, self.n_Z])  #\n",
    "        x_gen = self.generate(z_samp)\n",
    "        logits_x_gen = self.discriminate(x_gen)\n",
    "        # losses of fake with label \"1\"\n",
    "        gen_loss = -tf.reduce_mean(logits_x_gen)\n",
    "        \n",
    "        return gen_loss\n",
    "      \n",
    "\n",
    "    \n",
    "    def compute_gradients_critic(self, x):\n",
    "        \n",
    "        with tf.GradientTape() as disc_tape:\n",
    "            disc_loss = self.compute_loss_critic(x)\n",
    "\n",
    "        # compute gradients\n",
    "        disc_gradients = disc_tape.gradient(disc_loss, self.disc.trainable_variables)\n",
    "\n",
    "        return disc_gradients\n",
    "      \n",
    "    def compute_gradients_generator(self, x):\n",
    "        \n",
    "        with tf.GradientTape() as gen_tape:\n",
    "            gen_loss = self.compute_loss_generator(x)\n",
    "\n",
    "        # compute gradients\n",
    "        gen_gradients = gen_tape.gradient(gen_loss, self.gen.trainable_variables)\n",
    "\n",
    "        return gen_gradients\n",
    "      \n",
    "      \n",
    "\n",
    "    def apply_gradients_critic(self, disc_gradients):\n",
    "        self.disc_optimizer.apply_gradients(\n",
    "            zip(disc_gradients, self.disc.trainable_variables)\n",
    "        )\n",
    "        \n",
    "    def apply_gradients_generator(self, gen_gradients):\n",
    "        self.gen_optimizer.apply_gradients(\n",
    "            zip(gen_gradients, self.gen.trainable_variables)\n",
    "        )\n",
    "      \n",
    "\n",
    "\n",
    "    def gradient_penalty(self, x, x_gen):\n",
    "        epsilon = tf.random.uniform([x.shape[0], 1, 1, 1], 0.0, 1.0)\n",
    "        x_hat = epsilon * x + (1 - epsilon) * x_gen\n",
    "        with tf.GradientTape() as t:\n",
    "            t.watch(x_hat)\n",
    "            d_hat = self.discriminate(x_hat)\n",
    "        gradients = t.gradient(d_hat, x_hat)\n",
    "        ddx = tf.sqrt(tf.reduce_sum(gradients ** 2, axis=[1, 2]))\n",
    "        d_regularizer = tf.reduce_mean((ddx - 1.0) ** 2)\n",
    "        return d_regularizer\n",
    "\n",
    "      \n",
    "\n",
    "    @tf.function\n",
    "    def train(self, train_x):\n",
    "      \n",
    "      for _ in range(self.n_critic):\n",
    "        disc_gradients = self.compute_gradients_critic(train_x)\n",
    "        self.apply_gradients_critic(disc_gradients)\n",
    "      \n",
    "      gen_gradients = self.compute_gradients_generator(train_x)\n",
    "      self.apply_gradients_generator(gen_gradients)\n",
    "      \n",
    "        \n",
    "        \n",
    "        \n",
    "        \n",
    "    def sample_images(self, epoch):\n",
    "\n",
    "        r, c = 5, 5\n",
    "        noise = np.random.normal(0, 1, (r * c, self.n_Z))\n",
    "        \n",
    "        gen_imgs = self.generate(noise)\n",
    "\n",
    "        # Rescale images 0 - 1\n",
    "        gen_imgs = 0.5 * gen_imgs + 0.5\n",
    "\n",
    "        fig, axs = plt.subplots(r, c)\n",
    "        cnt = 0\n",
    "        for i in range(r):\n",
    "            for j in range(c):\n",
    "                axs[i,j].matshow(\n",
    "                    gen_imgs[cnt, :,:,0], cmap=plt.cm.Greys, vmin=0, vmax=1\n",
    "                )\n",
    "                axs[i,j].axis('off')\n",
    "                cnt += 1\n",
    "        fig.savefig(\"images/img_%d.png\" % epoch)\n",
    "        plt.close()"
   ]
  },
  {
   "cell_type": "code",
   "execution_count": 0,
   "metadata": {
    "colab": {},
    "colab_type": "code",
    "id": "lQHoojHR1x8a"
   },
   "outputs": [],
   "source": [
    "N_Z = 64\n",
    "\n",
    "generator = [\n",
    "    tf.keras.layers.Dense(units=7 * 7 * 64, activation=\"relu\"),\n",
    "    tf.keras.layers.Reshape(target_shape=(7, 7, 64)),\n",
    "    tf.keras.layers.Conv2DTranspose(\n",
    "        filters=64, kernel_size=3, strides=(2, 2), padding=\"SAME\", activation=\"relu\"\n",
    "    ),\n",
    "    tf.keras.layers.Conv2DTranspose(\n",
    "        filters=32, kernel_size=3, strides=(2, 2), padding=\"SAME\", activation=\"relu\"\n",
    "    ),\n",
    "    tf.keras.layers.Conv2DTranspose(\n",
    "        filters=1, kernel_size=3, strides=(1, 1), padding=\"SAME\", activation=\"sigmoid\"\n",
    "    ),\n",
    "]\n",
    "\n",
    "discriminator = [\n",
    "    tf.keras.layers.InputLayer(input_shape=DIMS),\n",
    "    tf.keras.layers.Conv2D(\n",
    "        filters=32, kernel_size=3, strides=(2, 2), activation=\"relu\"\n",
    "    ),\n",
    "    tf.keras.layers.Conv2D(\n",
    "        filters=64, kernel_size=3, strides=(2, 2), activation=\"relu\"\n",
    "    ),\n",
    "    tf.keras.layers.Flatten(),\n",
    "    tf.keras.layers.Dense(units=1, activation=\"sigmoid\"),\n",
    "]"
   ]
  },
  {
   "cell_type": "code",
   "execution_count": 0,
   "metadata": {
    "colab": {},
    "colab_type": "code",
    "id": "q_RtyI7IyiiB"
   },
   "outputs": [],
   "source": [
    "gen_optimizer = tf.keras.optimizers.Adam(0.0001, beta_1=0.5, beta_2=0.9) # learning_rate = alpha = 0.0001\n",
    "disc_optimizer = tf.keras.optimizers.Adam(0.0001, beta_1=0.5, beta_2=0.9)\n",
    "\n",
    "\n",
    "\n",
    "model = WGAN(\n",
    "    gen = generator,\n",
    "    disc = discriminator,\n",
    "    gen_optimizer = gen_optimizer,\n",
    "    disc_optimizer = disc_optimizer,\n",
    "    n_Z = N_Z,\n",
    "    gradient_penalty_weight = 10.0,\n",
    "    n_critic = 5\n",
    ")"
   ]
  },
  {
   "cell_type": "code",
   "execution_count": 0,
   "metadata": {
    "colab": {},
    "colab_type": "code",
    "id": "CyNTkZ1eym-D"
   },
   "outputs": [],
   "source": [
    "# exampled data for plotting results\n",
    "def plot_reconstruction(model, nex=8, zm=2):\n",
    "    samples = model.generate(tf.random.normal(shape=(BATCH_SIZE, N_Z)))\n",
    "    fig, axs = plt.subplots(ncols=nex, nrows=1, figsize=(zm * nex, zm))\n",
    "    for axi in range(nex):\n",
    "        axs[axi].matshow(\n",
    "                    samples.numpy()[axi].squeeze(), cmap=plt.cm.Greys, vmin=0, vmax=1\n",
    "                )\n",
    "        axs[axi].axis('off')\n",
    "    plt.show()"
   ]
  },
  {
   "cell_type": "code",
   "execution_count": 0,
   "metadata": {
    "colab": {},
    "colab_type": "code",
    "id": "LZEJfCQFyor-"
   },
   "outputs": [],
   "source": [
    "# a pandas dataframe to save the loss information to\n",
    "losses = pd.DataFrame(columns = ['disc_loss', 'gen_loss'])\n",
    "\n",
    "n_epochs = 60"
   ]
  },
  {
   "cell_type": "code",
   "execution_count": 12,
   "metadata": {
    "colab": {
     "base_uri": "https://localhost:8080/",
     "height": 1000
    },
    "colab_type": "code",
    "id": "6M9_OCijyrzQ",
    "outputId": "8c813c2f-0733-423a-8cfb-d405c56d957e"
   },
   "outputs": [
    {
     "name": "stdout",
     "output_type": "stream",
     "text": [
      "WARNING:tensorflow:From /usr/local/lib/python3.6/dist-packages/tensorflow/python/ops/math_grad.py:1205: add_dispatch_support.<locals>.wrapper (from tensorflow.python.ops.array_ops) is deprecated and will be removed in a future version.\n",
      "Instructions for updating:\n",
      "Use tf.where in 2.0, which has the same broadcast rule as np.where\n",
      "Epoch: 0 | disc_loss: 2.33743 | gen_loss: -0.53899\n",
      "Epoch: 1 | disc_loss: -0.17083 | gen_loss: -0.46112\n",
      "Epoch: 2 | disc_loss: -0.42873 | gen_loss: -0.22720\n",
      "Epoch: 3 | disc_loss: -0.47847 | gen_loss: -0.22577\n",
      "Epoch: 4 | disc_loss: -0.42729 | gen_loss: -0.30469\n",
      "Epoch: 5 | disc_loss: -0.34422 | gen_loss: -0.38401\n",
      "Epoch: 6 | disc_loss: -0.24583 | gen_loss: -0.39580\n",
      "Epoch: 7 | disc_loss: -0.21452 | gen_loss: -0.39210\n",
      "Epoch: 8 | disc_loss: -0.22560 | gen_loss: -0.37795\n",
      "Epoch: 9 | disc_loss: -0.20893 | gen_loss: -0.40124\n",
      "Epoch: 10 | disc_loss: -0.20108 | gen_loss: -0.41312\n",
      "Epoch: 11 | disc_loss: -0.18550 | gen_loss: -0.42428\n",
      "Epoch: 12 | disc_loss: -0.18119 | gen_loss: -0.43316\n",
      "Epoch: 13 | disc_loss: -0.17954 | gen_loss: -0.42924\n",
      "Epoch: 14 | disc_loss: -0.18101 | gen_loss: -0.42294\n",
      "Epoch: 15 | disc_loss: -0.17536 | gen_loss: -0.42212\n",
      "Epoch: 16 | disc_loss: -0.17014 | gen_loss: -0.42590\n",
      "Epoch: 17 | disc_loss: -0.16673 | gen_loss: -0.42768\n",
      "Epoch: 18 | disc_loss: -0.16419 | gen_loss: -0.43207\n",
      "Epoch: 19 | disc_loss: -0.16065 | gen_loss: -0.43420\n",
      "Epoch: 20 | disc_loss: -0.15719 | gen_loss: -0.43476\n",
      "Epoch: 21 | disc_loss: -0.15566 | gen_loss: -0.43954\n",
      "Epoch: 22 | disc_loss: -0.15412 | gen_loss: -0.44074\n",
      "Epoch: 23 | disc_loss: -0.15205 | gen_loss: -0.44573\n",
      "Epoch: 24 | disc_loss: -0.15097 | gen_loss: -0.44837\n",
      "Epoch: 25 | disc_loss: -0.14840 | gen_loss: -0.45124\n",
      "Epoch: 26 | disc_loss: -0.14737 | gen_loss: -0.45488\n",
      "Epoch: 27 | disc_loss: -0.14738 | gen_loss: -0.45345\n",
      "Epoch: 28 | disc_loss: -0.14704 | gen_loss: -0.45484\n",
      "Epoch: 29 | disc_loss: -0.14506 | gen_loss: -0.45706\n",
      "Epoch: 30 | disc_loss: -0.14482 | gen_loss: -0.46035\n",
      "Epoch: 31 | disc_loss: -0.14462 | gen_loss: -0.46367\n",
      "Epoch: 32 | disc_loss: -0.14299 | gen_loss: -0.46361\n",
      "Epoch: 33 | disc_loss: -0.14216 | gen_loss: -0.46722\n",
      "Epoch: 34 | disc_loss: -0.14224 | gen_loss: -0.46684\n",
      "Epoch: 35 | disc_loss: -0.14063 | gen_loss: -0.47054\n",
      "Epoch: 36 | disc_loss: -0.14004 | gen_loss: -0.47123\n",
      "Epoch: 37 | disc_loss: -0.13984 | gen_loss: -0.47252\n",
      "Epoch: 38 | disc_loss: -0.13860 | gen_loss: -0.47219\n",
      "Epoch: 39 | disc_loss: -0.13829 | gen_loss: -0.47532\n",
      "Epoch: 40 | disc_loss: -0.13611 | gen_loss: -0.47375\n",
      "Epoch: 41 | disc_loss: -0.13600 | gen_loss: -0.47719\n",
      "Epoch: 42 | disc_loss: -0.13411 | gen_loss: -0.47739\n",
      "Epoch: 43 | disc_loss: -0.13431 | gen_loss: -0.47899\n",
      "Epoch: 44 | disc_loss: -0.13269 | gen_loss: -0.48068\n",
      "Epoch: 45 | disc_loss: -0.13237 | gen_loss: -0.48266\n",
      "Epoch: 46 | disc_loss: -0.13195 | gen_loss: -0.48113\n",
      "Epoch: 47 | disc_loss: -0.13247 | gen_loss: -0.48185\n",
      "Epoch: 48 | disc_loss: -0.13080 | gen_loss: -0.47955\n",
      "Epoch: 49 | disc_loss: -0.13136 | gen_loss: -0.48297\n",
      "Epoch: 50 | disc_loss: -0.13111 | gen_loss: -0.48197\n",
      "Epoch: 51 | disc_loss: -0.12979 | gen_loss: -0.48122\n",
      "Epoch: 52 | disc_loss: -0.12998 | gen_loss: -0.48255\n",
      "Epoch: 53 | disc_loss: -0.12895 | gen_loss: -0.48314\n",
      "Epoch: 54 | disc_loss: -0.12903 | gen_loss: -0.48289\n",
      "Epoch: 55 | disc_loss: -0.12888 | gen_loss: -0.48468\n",
      "Epoch: 56 | disc_loss: -0.12786 | gen_loss: -0.48563\n",
      "Epoch: 57 | disc_loss: -0.12689 | gen_loss: -0.48729\n",
      "Epoch: 58 | disc_loss: -0.12658 | gen_loss: -0.48524\n",
      "Epoch: 59 | disc_loss: -0.12654 | gen_loss: -0.48838\n"
     ]
    },
    {
     "data": {
      "image/png": "[encoded data removed]",
      "text/plain": [
       "<Figure size 1152x144 with 8 Axes>"
      ]
     },
     "metadata": {
      "tags": []
     },
     "output_type": "display_data"
    }
   ],
   "source": [
    "for epoch in range(n_epochs):\n",
    "  \n",
    "    loss = []\n",
    "    for train_x in train_dataset:\n",
    "        model.train(train_x)\n",
    "        loss.append([model.compute_loss_critic(train_x), model.compute_loss_generator(train_x)])\n",
    "      \n",
    "    losses.loc[len(losses)] = np.mean(loss, axis=0)\n",
    "    \n",
    "    print(\n",
    "        \"Epoch: {0} | disc_loss: {1:.5f} | gen_loss: {2:.5f}\".format(\n",
    "            epoch, losses.disc_loss.values[-1], losses.gen_loss.values[-1]\n",
    "        )\n",
    "    )\n",
    "    \n",
    "    sample_interval = 4\n",
    "    if epoch % sample_interval == 0:\n",
    "        model.sample_images(epoch)\n",
    "\n",
    "plot_reconstruction(model)"
   ]
  },
  {
   "cell_type": "code",
   "execution_count": 13,
   "metadata": {
    "colab": {
     "base_uri": "https://localhost:8080/",
     "height": 283
    },
    "colab_type": "code",
    "id": "nHdDf1USyuwk",
    "outputId": "7f8cdd23-6441-4f5d-a1d7-0712dea64b0b"
   },
   "outputs": [
    {
     "data": {
      "text/plain": [
       "[<matplotlib.lines.Line2D at 0x7f5abf49e630>]"
      ]
     },
     "execution_count": 13,
     "metadata": {
      "tags": []
     },
     "output_type": "execute_result"
    },
    {
     "data": {
      "image/png": "[encoded data removed]",
      "text/plain": [
       "<Figure size 432x288 with 1 Axes>"
      ]
     },
     "metadata": {
      "tags": []
     },
     "output_type": "display_data"
    }
   ],
   "source": [
    "plt.plot(losses.gen_loss.values)"
   ]
  },
  {
   "cell_type": "code",
   "execution_count": 14,
   "metadata": {
    "colab": {
     "base_uri": "https://localhost:8080/",
     "height": 283
    },
    "colab_type": "code",
    "id": "xf6XHdOwyyD9",
    "outputId": "fac16fd6-87a9-4268-e2b2-9b76b8481c81"
   },
   "outputs": [
    {
     "data": {
      "text/plain": [
       "[<matplotlib.lines.Line2D at 0x7f5abf426860>]"
      ]
     },
     "execution_count": 14,
     "metadata": {
      "tags": []
     },
     "output_type": "execute_result"
    },
    {
     "data": {
      "image/png": "[encoded data removed]",
      "text/plain": [
       "<Figure size 432x288 with 1 Axes>"
      ]
     },
     "metadata": {
      "tags": []
     },
     "output_type": "display_data"
    }
   ],
   "source": [
    "plt.plot(losses.disc_loss.values)"
   ]
  },
  {
   "cell_type": "code",
   "execution_count": 15,
   "metadata": {
    "colab": {
     "base_uri": "https://localhost:8080/",
     "height": 311
    },
    "colab_type": "code",
    "id": "484wPCL9yz8X",
    "outputId": "fe29c439-e16d-49d4-c3d8-d38a10555347"
   },
   "outputs": [
    {
     "name": "stdout",
     "output_type": "stream",
     "text": [
      "  adding: content/images/ (stored 0%)\n",
      "  adding: content/images/img_40.png (deflated 8%)\n",
      "  adding: content/images/img_48.png (deflated 8%)\n",
      "  adding: content/images/img_28.png (deflated 7%)\n",
      "  adding: content/images/img_56.png (deflated 8%)\n",
      "  adding: content/images/img_16.png (deflated 8%)\n",
      "  adding: content/images/img_4.png (deflated 7%)\n",
      "  adding: content/images/img_8.png (deflated 7%)\n",
      "  adding: content/images/img_36.png (deflated 8%)\n",
      "  adding: content/images/img_24.png (deflated 8%)\n",
      "  adding: content/images/img_44.png (deflated 8%)\n",
      "  adding: content/images/img_32.png (deflated 7%)\n",
      "  adding: content/images/img_12.png (deflated 7%)\n",
      "  adding: content/images/img_52.png (deflated 8%)\n",
      "  adding: content/images/img_20.png (deflated 8%)\n",
      "  adding: content/images/img_0.png (deflated 8%)\n"
     ]
    }
   ],
   "source": [
    "!zip -r /content/file.zip /content/images"
   ]
  },
  {
   "cell_type": "code",
   "execution_count": 0,
   "metadata": {
    "colab": {},
    "colab_type": "code",
    "id": "hy5PfpTL_VZJ"
   },
   "outputs": [],
   "source": []
  }
 ],
 "metadata": {
  "accelerator": "GPU",
  "colab": {
   "name": "WGAN-GP-MNIST.ipynb",
   "provenance": []
  },
  "kernelspec": {
   "display_name": "Python 3",
   "language": "python",
   "name": "python3"
  },
  "language_info": {
   "codemirror_mode": {
    "name": "ipython",
    "version": 3
   },
   "file_extension": ".py",
   "mimetype": "text/x-python",
   "name": "python",
   "nbconvert_exporter": "python",
   "pygments_lexer": "ipython3",
   "version": "3.6.9"
  }
 },
 "nbformat": 4,
 "nbformat_minor": 1
}
