{
 "cells": [
  {
   "cell_type": "markdown",
   "metadata": {},
   "source": [
    "https://github.com/timsainb/tensorflow2-generative-models/blob/master/3.0-WGAN-GP-fashion-mnist.ipynb"
   ]
  },
  {
   "cell_type": "code",
   "execution_count": 0,
   "metadata": {
    "colab": {},
    "colab_type": "code",
    "id": "QE0DyoAgO3Rz"
   },
   "outputs": [],
   "source": [
    "!pip uninstall tensorflow\n",
    "!pip install tensorflow-gpu==2.0.0-beta1"
   ]
  },
  {
   "cell_type": "code",
   "execution_count": 1,
   "metadata": {
    "colab": {
     "base_uri": "https://localhost:8080/",
     "height": 35
    },
    "colab_type": "code",
    "id": "LzLRSiMTWULM",
    "outputId": "7be8d160-c969-410d-ea6d-37613f5926c1"
   },
   "outputs": [
    {
     "name": "stdout",
     "output_type": "stream",
     "text": [
      "mkdir: cannot create directory ‘images’: File exists\n"
     ]
    }
   ],
   "source": [
    "!mkdir images"
   ]
  },
  {
   "cell_type": "code",
   "execution_count": 2,
   "metadata": {
    "colab": {
     "base_uri": "https://localhost:8080/",
     "height": 92
    },
    "colab_type": "code",
    "id": "cvnQISKVWVrx",
    "outputId": "3081bdff-8f65-4fbd-f7fd-dc517cb73f58"
   },
   "outputs": [
    {
     "name": "stdout",
     "output_type": "stream",
     "text": [
      "2.0.0-beta1\n"
     ]
    },
    {
     "name": "stderr",
     "output_type": "stream",
     "text": [
      "/usr/local/lib/python3.6/dist-packages/tqdm/autonotebook/__init__.py:14: TqdmExperimentalWarning: Using `tqdm.autonotebook.tqdm` in notebook mode. Use `tqdm.tqdm` instead to force console mode (e.g. in jupyter console)\n",
      "  \" (e.g. in jupyter console)\", TqdmExperimentalWarning)\n"
     ]
    }
   ],
   "source": [
    "%matplotlib inline\n",
    "\n",
    "import tensorflow as tf\n",
    "import numpy as np\n",
    "import matplotlib.pyplot as plt\n",
    "from tqdm.autonotebook import tqdm\n",
    "from IPython import display\n",
    "import pandas as pd\n",
    "\n",
    "print(tf.__version__)"
   ]
  },
  {
   "cell_type": "code",
   "execution_count": 3,
   "metadata": {
    "colab": {
     "base_uri": "https://localhost:8080/",
     "height": 184
    },
    "colab_type": "code",
    "id": "LC-eT0JbWZM1",
    "outputId": "9ccbfc2a-a544-4b0b-c5d3-dabe341cb89e"
   },
   "outputs": [
    {
     "name": "stdout",
     "output_type": "stream",
     "text": [
      "Downloading data from https://storage.googleapis.com/tensorflow/tf-keras-datasets/train-labels-idx1-ubyte.gz\n",
      "32768/29515 [=================================] - 0s 0us/step\n",
      "Downloading data from https://storage.googleapis.com/tensorflow/tf-keras-datasets/train-images-idx3-ubyte.gz\n",
      "26427392/26421880 [==============================] - 1s 0us/step\n",
      "Downloading data from https://storage.googleapis.com/tensorflow/tf-keras-datasets/t10k-labels-idx1-ubyte.gz\n",
      "8192/5148 [===============================================] - 0s 0us/step\n",
      "Downloading data from https://storage.googleapis.com/tensorflow/tf-keras-datasets/t10k-images-idx3-ubyte.gz\n",
      "4423680/4422102 [==============================] - 0s 0us/step\n"
     ]
    }
   ],
   "source": [
    "TRAIN_BUF=60000\n",
    "BATCH_SIZE=256\n",
    "TEST_BUF=10000\n",
    "DIMS = (28,28,1)\n",
    "N_TRAIN_BATCHES = int(TRAIN_BUF/BATCH_SIZE)\n",
    "N_TEST_BATCHES = int(TEST_BUF/BATCH_SIZE)\n",
    "\n",
    "\n",
    "# load dataset\n",
    "(train_images, _), (test_images, _) = tf.keras.datasets.fashion_mnist.load_data()\n",
    "\n",
    "# normalizing and reshaping dataset\n",
    "# (m,28,28) to (m,28,28,1)\n",
    "train_images = train_images.reshape(train_images.shape[0], 28, 28, 1).astype(\n",
    "    \"float32\"\n",
    ") / 255.0\n",
    "test_images = test_images.reshape(test_images.shape[0], 28, 28, 1).astype(\"float32\") / 255.0\n",
    "\n",
    "# batch datasets\n",
    "train_dataset = (\n",
    "    tf.data.Dataset.from_tensor_slices(train_images)\n",
    "    .shuffle(TRAIN_BUF)\n",
    "    .batch(BATCH_SIZE)\n",
    ")\n",
    "test_dataset = (\n",
    "    tf.data.Dataset.from_tensor_slices(test_images)\n",
    "    .shuffle(TEST_BUF)\n",
    "    .batch(BATCH_SIZE)\n",
    ")"
   ]
  },
  {
   "cell_type": "code",
   "execution_count": 0,
   "metadata": {
    "colab": {},
    "colab_type": "code",
    "id": "NiPYZFmkWegJ"
   },
   "outputs": [],
   "source": [
    "class WGAN(tf.keras.Model):\n",
    "    \"\"\"\n",
    "    Extends tf.keras.Model\n",
    "    \"\"\"\n",
    "\n",
    "    def __init__(self, **kwargs):\n",
    "        super(WGAN, self).__init__()\n",
    "        self.__dict__.update(kwargs)\n",
    "\n",
    "        self.gen = tf.keras.Sequential(self.gen)\n",
    "        self.disc = tf.keras.Sequential(self.disc)\n",
    "\n",
    "    def generate(self, z):\n",
    "        return self.gen(z)\n",
    "\n",
    "    def discriminate(self, x):\n",
    "        return self.disc(x)\n",
    "      \n",
    "    \n",
    "    def compute_loss_critic(self, x):\n",
    "        z_samp = tf.random.normal([x.shape[0], 1, 1, self.n_Z])\n",
    "\n",
    "        # run noise through generator\n",
    "        x_gen = self.generate(z_samp)\n",
    "        # discriminate x and x_gen\n",
    "        logits_x = self.discriminate(x)\n",
    "        logits_x_gen = self.discriminate(x_gen)\n",
    "\n",
    "        # gradient penalty\n",
    "        d_regularizer = self.gradient_penalty(x, x_gen)\n",
    "        ### losses\n",
    "        disc_loss = (\n",
    "            tf.reduce_mean(logits_x_gen)  #\n",
    "            - tf.reduce_mean(logits_x)\n",
    "            + d_regularizer * self.gradient_penalty_weight\n",
    "        )\n",
    "        \n",
    "        return disc_loss\n",
    "      \n",
    "    def compute_loss_generator(self, x):\n",
    "        z_samp = tf.random.normal([x.shape[0], 1, 1, self.n_Z])  \n",
    "        x_gen = self.generate(z_samp)\n",
    "        logits_x_gen = self.discriminate(x_gen)\n",
    "        # losses of fake with label \"1\"\n",
    "        gen_loss = -tf.reduce_mean(logits_x_gen)\n",
    "        \n",
    "        return gen_loss\n",
    "      \n",
    "\n",
    "    \n",
    "    def compute_gradients_critic(self, x):\n",
    "        \n",
    "        with tf.GradientTape() as disc_tape:\n",
    "            disc_loss = self.compute_loss_critic(x)\n",
    "\n",
    "        # compute gradients\n",
    "        disc_gradients = disc_tape.gradient(disc_loss, self.disc.trainable_variables)\n",
    "\n",
    "        return disc_gradients\n",
    "      \n",
    "    def compute_gradients_generator(self, x):\n",
    "        \n",
    "        with tf.GradientTape() as gen_tape:\n",
    "            gen_loss = self.compute_loss_generator(x)\n",
    "\n",
    "        # compute gradients\n",
    "        gen_gradients = gen_tape.gradient(gen_loss, self.gen.trainable_variables)\n",
    "\n",
    "        return gen_gradients\n",
    "      \n",
    "      \n",
    "\n",
    "    def apply_gradients_critic(self, disc_gradients):\n",
    "        self.disc_optimizer.apply_gradients(\n",
    "            zip(disc_gradients, self.disc.trainable_variables)\n",
    "        )\n",
    "        \n",
    "    def apply_gradients_generator(self, gen_gradients):\n",
    "        self.gen_optimizer.apply_gradients(\n",
    "            zip(gen_gradients, self.gen.trainable_variables)\n",
    "        )\n",
    "      \n",
    "\n",
    "\n",
    "    def gradient_penalty(self, x, x_gen):\n",
    "        epsilon = tf.random.uniform([x.shape[0], 1, 1, 1], 0.0, 1.0)\n",
    "        x_hat = epsilon * x + (1 - epsilon) * x_gen\n",
    "        with tf.GradientTape() as t:\n",
    "            t.watch(x_hat)\n",
    "            d_hat = self.discriminate(x_hat)\n",
    "        gradients = t.gradient(d_hat, x_hat)\n",
    "        ddx = tf.sqrt(tf.reduce_sum(gradients ** 2, axis=[1, 2]))\n",
    "        d_regularizer = tf.reduce_mean((ddx - 1.0) ** 2)\n",
    "        return d_regularizer\n",
    "\n",
    "      \n",
    "\n",
    "    @tf.function\n",
    "    def train_new(self, train_x):\n",
    "      \n",
    "      for _ in range(self.n_critic):\n",
    "        disc_gradients = self.compute_gradients_critic(train_x)\n",
    "        self.apply_gradients_critic(disc_gradients)\n",
    "      \n",
    "      gen_gradients = self.compute_gradients_generator(train_x)\n",
    "      self.apply_gradients_generator(gen_gradients)\n",
    "      \n",
    "        \n",
    "        \n",
    "#     @tf.function\n",
    "#     def train(self, train_x):\n",
    "        \n",
    "#         gen_gradients, disc_gradients = self.compute_gradients(train_x)\n",
    "#         self.apply_gradients(gen_gradients, disc_gradients)\n",
    "        \n",
    "        \n",
    "    def sample_images(self, epoch):\n",
    "\n",
    "        r, c = 5, 5\n",
    "        noise = np.random.normal(0, 1, (r * c, self.n_Z))\n",
    "        \n",
    "        gen_imgs = self.generate(noise)\n",
    "\n",
    "        # Rescale images 0 - 1\n",
    "        gen_imgs = 0.5 * gen_imgs + 0.5\n",
    "\n",
    "        fig, axs = plt.subplots(r, c)\n",
    "        cnt = 0\n",
    "        for i in range(r):\n",
    "            for j in range(c):\n",
    "                axs[i,j].matshow(\n",
    "                    gen_imgs[cnt, :,:,0], cmap=plt.cm.Greys, vmin=0, vmax=1\n",
    "                )\n",
    "                axs[i,j].axis('off')\n",
    "                cnt += 1\n",
    "        fig.savefig(\"images/img_%d.png\" % epoch)\n",
    "        plt.close()"
   ]
  },
  {
   "cell_type": "code",
   "execution_count": 0,
   "metadata": {
    "colab": {},
    "colab_type": "code",
    "id": "saccC0wUWjCP"
   },
   "outputs": [],
   "source": [
    "N_Z = 64\n",
    "\n",
    "generator = [\n",
    "    tf.keras.layers.Dense(units=7 * 7 * 64, activation=\"relu\"),\n",
    "    tf.keras.layers.Reshape(target_shape=(7, 7, 64)),\n",
    "    tf.keras.layers.Conv2DTranspose(\n",
    "        filters=64, kernel_size=3, strides=(2, 2), padding=\"SAME\", activation=\"relu\"\n",
    "    ),\n",
    "    tf.keras.layers.Conv2DTranspose(\n",
    "        filters=32, kernel_size=3, strides=(2, 2), padding=\"SAME\", activation=\"relu\"\n",
    "    ),\n",
    "    tf.keras.layers.Conv2DTranspose(\n",
    "        filters=1, kernel_size=3, strides=(1, 1), padding=\"SAME\", activation=\"sigmoid\"\n",
    "    ),\n",
    "]\n",
    "\n",
    "discriminator = [\n",
    "    tf.keras.layers.InputLayer(input_shape=DIMS),\n",
    "    tf.keras.layers.Conv2D(\n",
    "        filters=32, kernel_size=3, strides=(2, 2), activation=\"relu\"\n",
    "    ),\n",
    "    tf.keras.layers.Conv2D(\n",
    "        filters=64, kernel_size=3, strides=(2, 2), activation=\"relu\"\n",
    "    ),\n",
    "    tf.keras.layers.Flatten(),\n",
    "    tf.keras.layers.Dense(units=1, activation=\"sigmoid\"),\n",
    "]"
   ]
  },
  {
   "cell_type": "code",
   "execution_count": 0,
   "metadata": {
    "colab": {},
    "colab_type": "code",
    "id": "avnDnG4RWlK1"
   },
   "outputs": [],
   "source": [
    "gen_optimizer = tf.keras.optimizers.Adam(0.0001, beta_1=0.0, beta_2=0.9) # learning_rate = alpha = 0.0001\n",
    "disc_optimizer = tf.keras.optimizers.Adam(0.0001, beta_1=0.0, beta_2=0.9)\n",
    "\n",
    "# gen_optimizer = tf.keras.optimizers.Adam(0.0001, beta_1=0.5)\n",
    "# disc_optimizer = tf.keras.optimizers.RMSprop(0.0005)\n",
    "\n",
    "\n",
    "model = WGAN(\n",
    "    gen = generator,\n",
    "    disc = discriminator,\n",
    "    gen_optimizer = gen_optimizer,\n",
    "    disc_optimizer = disc_optimizer,\n",
    "    n_Z = N_Z,\n",
    "    gradient_penalty_weight = 10.0,\n",
    "    n_critic = 5\n",
    ")"
   ]
  },
  {
   "cell_type": "code",
   "execution_count": 0,
   "metadata": {
    "colab": {},
    "colab_type": "code",
    "id": "SMTYo5-GWmzt"
   },
   "outputs": [],
   "source": [
    "# exampled data for plotting results\n",
    "def plot_reconstruction(model, nex=8, zm=2):\n",
    "    samples = model.generate(tf.random.normal(shape=(BATCH_SIZE, N_Z)))\n",
    "    fig, axs = plt.subplots(ncols=nex, nrows=1, figsize=(zm * nex, zm))\n",
    "    for axi in range(nex):\n",
    "        axs[axi].matshow(\n",
    "                    samples.numpy()[axi].squeeze(), cmap=plt.cm.Greys, vmin=0, vmax=1\n",
    "                )\n",
    "        axs[axi].axis('off')\n",
    "    plt.show()"
   ]
  },
  {
   "cell_type": "code",
   "execution_count": 0,
   "metadata": {
    "colab": {},
    "colab_type": "code",
    "id": "YHvUUE9eWu5Q"
   },
   "outputs": [],
   "source": [
    "# a pandas dataframe to save the loss information to\n",
    "losses = pd.DataFrame(columns = ['disc_loss', 'gen_loss'])\n",
    "\n",
    "n_epochs = 100"
   ]
  },
  {
   "cell_type": "code",
   "execution_count": 9,
   "metadata": {
    "colab": {
     "base_uri": "https://localhost:8080/",
     "height": 1000
    },
    "colab_type": "code",
    "id": "vEp634ByWo0F",
    "outputId": "5bf638c4-979e-4cf1-99e5-9d99c496cbdb"
   },
   "outputs": [
    {
     "name": "stdout",
     "output_type": "stream",
     "text": [
      "WARNING:tensorflow:From /usr/local/lib/python3.6/dist-packages/tensorflow/python/ops/math_grad.py:1205: add_dispatch_support.<locals>.wrapper (from tensorflow.python.ops.array_ops) is deprecated and will be removed in a future version.\n",
      "Instructions for updating:\n",
      "Use tf.where in 2.0, which has the same broadcast rule as np.where\n",
      "Epoch: 0 | disc_loss: 2.96427 | gen_loss: -0.63134\n",
      "Epoch: 1 | disc_loss: 0.53667 | gen_loss: -0.66717\n",
      "Epoch: 2 | disc_loss: -0.43483 | gen_loss: -0.16495\n",
      "Epoch: 3 | disc_loss: -0.50588 | gen_loss: -0.16273\n",
      "Epoch: 4 | disc_loss: -0.47581 | gen_loss: -0.29922\n",
      "Epoch: 5 | disc_loss: -0.27073 | gen_loss: -0.44100\n",
      "Epoch: 6 | disc_loss: -0.31931 | gen_loss: -0.35594\n",
      "Epoch: 7 | disc_loss: -0.30380 | gen_loss: -0.36085\n",
      "Epoch: 8 | disc_loss: -0.29324 | gen_loss: -0.35803\n",
      "Epoch: 9 | disc_loss: -0.30997 | gen_loss: -0.34674\n",
      "Epoch: 10 | disc_loss: -0.27112 | gen_loss: -0.37013\n",
      "Epoch: 11 | disc_loss: -0.25015 | gen_loss: -0.37071\n",
      "Epoch: 12 | disc_loss: -0.25264 | gen_loss: -0.35971\n",
      "Epoch: 13 | disc_loss: -0.25164 | gen_loss: -0.36001\n",
      "Epoch: 14 | disc_loss: -0.24600 | gen_loss: -0.36737\n",
      "Epoch: 15 | disc_loss: -0.24422 | gen_loss: -0.36606\n",
      "Epoch: 16 | disc_loss: -0.23187 | gen_loss: -0.37363\n",
      "Epoch: 17 | disc_loss: -0.21780 | gen_loss: -0.38435\n",
      "Epoch: 18 | disc_loss: -0.20396 | gen_loss: -0.38784\n",
      "Epoch: 19 | disc_loss: -0.19905 | gen_loss: -0.38675\n",
      "Epoch: 20 | disc_loss: -0.19568 | gen_loss: -0.39645\n",
      "Epoch: 21 | disc_loss: -0.17673 | gen_loss: -0.40685\n",
      "Epoch: 22 | disc_loss: -0.16260 | gen_loss: -0.41338\n",
      "Epoch: 23 | disc_loss: -0.15785 | gen_loss: -0.41712\n",
      "Epoch: 24 | disc_loss: -0.15664 | gen_loss: -0.41686\n",
      "Epoch: 25 | disc_loss: -0.15672 | gen_loss: -0.41673\n",
      "Epoch: 26 | disc_loss: -0.15522 | gen_loss: -0.41819\n",
      "Epoch: 27 | disc_loss: -0.15041 | gen_loss: -0.41673\n",
      "Epoch: 28 | disc_loss: -0.14454 | gen_loss: -0.42582\n",
      "Epoch: 29 | disc_loss: -0.14086 | gen_loss: -0.42573\n",
      "Epoch: 30 | disc_loss: -0.13642 | gen_loss: -0.42776\n",
      "Epoch: 31 | disc_loss: -0.13239 | gen_loss: -0.43281\n",
      "Epoch: 32 | disc_loss: -0.13123 | gen_loss: -0.43218\n",
      "Epoch: 33 | disc_loss: -0.12721 | gen_loss: -0.43524\n",
      "Epoch: 34 | disc_loss: -0.12220 | gen_loss: -0.43731\n",
      "Epoch: 35 | disc_loss: -0.11824 | gen_loss: -0.44169\n",
      "Epoch: 36 | disc_loss: -0.11618 | gen_loss: -0.44911\n",
      "Epoch: 37 | disc_loss: -0.11328 | gen_loss: -0.45133\n",
      "Epoch: 38 | disc_loss: -0.11070 | gen_loss: -0.45689\n",
      "Epoch: 39 | disc_loss: -0.10875 | gen_loss: -0.46260\n",
      "Epoch: 40 | disc_loss: -0.10660 | gen_loss: -0.46232\n",
      "Epoch: 41 | disc_loss: -0.10481 | gen_loss: -0.46607\n",
      "Epoch: 42 | disc_loss: -0.10278 | gen_loss: -0.46663\n",
      "Epoch: 43 | disc_loss: -0.10320 | gen_loss: -0.46945\n",
      "Epoch: 44 | disc_loss: -0.10164 | gen_loss: -0.47112\n",
      "Epoch: 45 | disc_loss: -0.09959 | gen_loss: -0.47142\n",
      "Epoch: 46 | disc_loss: -0.09803 | gen_loss: -0.46800\n",
      "Epoch: 47 | disc_loss: -0.09801 | gen_loss: -0.46929\n",
      "Epoch: 48 | disc_loss: -0.09593 | gen_loss: -0.46749\n",
      "Epoch: 49 | disc_loss: -0.09528 | gen_loss: -0.47063\n",
      "Epoch: 50 | disc_loss: -0.09576 | gen_loss: -0.46741\n",
      "Epoch: 51 | disc_loss: -0.09348 | gen_loss: -0.46825\n",
      "Epoch: 52 | disc_loss: -0.09174 | gen_loss: -0.47347\n",
      "Epoch: 53 | disc_loss: -0.09110 | gen_loss: -0.47458\n",
      "Epoch: 54 | disc_loss: -0.09023 | gen_loss: -0.47356\n",
      "Epoch: 55 | disc_loss: -0.08910 | gen_loss: -0.47350\n",
      "Epoch: 56 | disc_loss: -0.08755 | gen_loss: -0.47534\n",
      "Epoch: 57 | disc_loss: -0.08535 | gen_loss: -0.47800\n",
      "Epoch: 58 | disc_loss: -0.08438 | gen_loss: -0.47775\n",
      "Epoch: 59 | disc_loss: -0.08431 | gen_loss: -0.48005\n",
      "Epoch: 60 | disc_loss: -0.08366 | gen_loss: -0.48189\n",
      "Epoch: 61 | disc_loss: -0.08285 | gen_loss: -0.47948\n",
      "Epoch: 62 | disc_loss: -0.08262 | gen_loss: -0.48247\n",
      "Epoch: 63 | disc_loss: -0.08056 | gen_loss: -0.48368\n",
      "Epoch: 64 | disc_loss: -0.08059 | gen_loss: -0.48116\n",
      "Epoch: 65 | disc_loss: -0.08060 | gen_loss: -0.48240\n",
      "Epoch: 66 | disc_loss: -0.07937 | gen_loss: -0.48406\n",
      "Epoch: 67 | disc_loss: -0.07984 | gen_loss: -0.48233\n",
      "Epoch: 68 | disc_loss: -0.07802 | gen_loss: -0.48372\n",
      "Epoch: 69 | disc_loss: -0.07810 | gen_loss: -0.48414\n",
      "Epoch: 70 | disc_loss: -0.07677 | gen_loss: -0.48369\n",
      "Epoch: 71 | disc_loss: -0.07627 | gen_loss: -0.48249\n",
      "Epoch: 72 | disc_loss: -0.07487 | gen_loss: -0.48426\n",
      "Epoch: 73 | disc_loss: -0.07429 | gen_loss: -0.48393\n",
      "Epoch: 74 | disc_loss: -0.07321 | gen_loss: -0.48940\n",
      "Epoch: 75 | disc_loss: -0.07273 | gen_loss: -0.48334\n",
      "Epoch: 76 | disc_loss: -0.07241 | gen_loss: -0.48870\n",
      "Epoch: 77 | disc_loss: -0.07032 | gen_loss: -0.48656\n",
      "Epoch: 78 | disc_loss: -0.07070 | gen_loss: -0.48769\n",
      "Epoch: 79 | disc_loss: -0.07055 | gen_loss: -0.48935\n",
      "Epoch: 80 | disc_loss: -0.07029 | gen_loss: -0.48625\n",
      "Epoch: 81 | disc_loss: -0.06974 | gen_loss: -0.48802\n",
      "Epoch: 82 | disc_loss: -0.06883 | gen_loss: -0.48860\n",
      "Epoch: 83 | disc_loss: -0.06783 | gen_loss: -0.48667\n",
      "Epoch: 84 | disc_loss: -0.06779 | gen_loss: -0.48883\n",
      "Epoch: 85 | disc_loss: -0.06707 | gen_loss: -0.48769\n",
      "Epoch: 86 | disc_loss: -0.06657 | gen_loss: -0.49140\n",
      "Epoch: 87 | disc_loss: -0.06588 | gen_loss: -0.48767\n",
      "Epoch: 88 | disc_loss: -0.06540 | gen_loss: -0.49162\n",
      "Epoch: 89 | disc_loss: -0.06517 | gen_loss: -0.48890\n",
      "Epoch: 90 | disc_loss: -0.06492 | gen_loss: -0.48740\n",
      "Epoch: 91 | disc_loss: -0.06533 | gen_loss: -0.48675\n",
      "Epoch: 92 | disc_loss: -0.06433 | gen_loss: -0.49228\n",
      "Epoch: 93 | disc_loss: -0.06425 | gen_loss: -0.48886\n",
      "Epoch: 94 | disc_loss: -0.06354 | gen_loss: -0.49067\n",
      "Epoch: 95 | disc_loss: -0.06260 | gen_loss: -0.49004\n",
      "Epoch: 96 | disc_loss: -0.06336 | gen_loss: -0.48628\n",
      "Epoch: 97 | disc_loss: -0.06166 | gen_loss: -0.48975\n",
      "Epoch: 98 | disc_loss: -0.06188 | gen_loss: -0.48944\n",
      "Epoch: 99 | disc_loss: -0.06100 | gen_loss: -0.48536\n"
     ]
    },
    {
     "data": {
      "image/png": "[encoded data removed]",
      "text/plain": [
       "<Figure size 1152x144 with 8 Axes>"
      ]
     },
     "metadata": {
      "tags": []
     },
     "output_type": "display_data"
    }
   ],
   "source": [
    "for epoch in range(n_epochs):\n",
    "  \n",
    "    loss = []\n",
    "    for train_x in train_dataset:\n",
    "        model.train_new(train_x)\n",
    "        loss.append([model.compute_loss_critic(train_x), model.compute_loss_generator(train_x)])\n",
    "      \n",
    "    losses.loc[len(losses)] = np.mean(loss, axis=0)\n",
    "    \n",
    "    print(\n",
    "        \"Epoch: {0} | disc_loss: {1:.5f} | gen_loss: {2:.5f}\".format(\n",
    "            epoch, losses.disc_loss.values[-1], losses.gen_loss.values[-1]\n",
    "        )\n",
    "    )\n",
    "    \n",
    "    sample_interval = 5\n",
    "    if epoch % sample_interval == 0:\n",
    "        model.sample_images(epoch)\n",
    "\n",
    "plot_reconstruction(model)"
   ]
  },
  {
   "cell_type": "code",
   "execution_count": 0,
   "metadata": {
    "colab": {},
    "colab_type": "code",
    "id": "NIVFma7aiTJ-"
   },
   "outputs": [],
   "source": [
    "### it took 65 mins to train!\n"
   ]
  },
  {
   "cell_type": "code",
   "execution_count": 10,
   "metadata": {
    "colab": {
     "base_uri": "https://localhost:8080/",
     "height": 287
    },
    "colab_type": "code",
    "id": "cstWQpHRk1yj",
    "outputId": "baa0af7f-f375-4d6b-84bc-fc9698bf10c2"
   },
   "outputs": [
    {
     "data": {
      "text/plain": [
       "[<matplotlib.lines.Line2D at 0x7feecdc0c828>]"
      ]
     },
     "execution_count": 10,
     "metadata": {
      "tags": []
     },
     "output_type": "execute_result"
    },
    {
     "data": {
      "image/png": "[encoded data removed]",
      "text/plain": [
       "<Figure size 432x288 with 1 Axes>"
      ]
     },
     "metadata": {
      "tags": []
     },
     "output_type": "display_data"
    }
   ],
   "source": [
    "plt.plot(losses.gen_loss.values)"
   ]
  },
  {
   "cell_type": "code",
   "execution_count": 11,
   "metadata": {
    "colab": {
     "base_uri": "https://localhost:8080/",
     "height": 287
    },
    "colab_type": "code",
    "id": "uf1eOdFd2Tt_",
    "outputId": "c0d13478-2d21-4dbb-b88c-a91247830809"
   },
   "outputs": [
    {
     "data": {
      "text/plain": [
       "[<matplotlib.lines.Line2D at 0x7feecdbf1e80>]"
      ]
     },
     "execution_count": 11,
     "metadata": {
      "tags": []
     },
     "output_type": "execute_result"
    },
    {
     "data": {
      "image/png": "[encoded data removed]",
      "text/plain": [
       "<Figure size 432x288 with 1 Axes>"
      ]
     },
     "metadata": {
      "tags": []
     },
     "output_type": "display_data"
    }
   ],
   "source": [
    "plt.plot(losses.disc_loss.values)"
   ]
  },
  {
   "cell_type": "code",
   "execution_count": 0,
   "metadata": {
    "colab": {},
    "colab_type": "code",
    "id": "60h5bE2r2WD9"
   },
   "outputs": [],
   "source": [
    "!zip -r /content/file.zip /content/images"
   ]
  },
  {
   "cell_type": "code",
   "execution_count": 0,
   "metadata": {
    "colab": {},
    "colab_type": "code",
    "id": "_WeK1rKy2aTx"
   },
   "outputs": [],
   "source": []
  }
 ],
 "metadata": {
  "accelerator": "GPU",
  "colab": {
   "collapsed_sections": [],
   "name": "WGAN-GP-fashion-modified.ipynb",
   "provenance": []
  },
  "kernelspec": {
   "display_name": "Python 3",
   "language": "python",
   "name": "python3"
  },
  "language_info": {
   "codemirror_mode": {
    "name": "ipython",
    "version": 3
   },
   "file_extension": ".py",
   "mimetype": "text/x-python",
   "name": "python",
   "nbconvert_exporter": "python",
   "pygments_lexer": "ipython3",
   "version": "3.6.9"
  }
 },
 "nbformat": 4,
 "nbformat_minor": 1
}
